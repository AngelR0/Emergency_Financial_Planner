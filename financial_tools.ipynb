{
 "cells": [
  {
   "cell_type": "markdown",
   "id": "84fecc8e",
   "metadata": {},
   "source": [
    "# Financial Planning with API's and Simulations"
   ]
  },
  {
   "cell_type": "code",
   "execution_count": 4,
   "id": "387971f5",
   "metadata": {},
   "outputs": [],
   "source": [
    "# Import the required libraries and dependencies\n",
    "import os\n",
    "import requests\n",
    "import json\n",
    "import pandas as pd\n",
    "from dotenv import load_dotenv\n",
    "import alpaca_trade_api as tradeapi\n",
    "import numpy as np\n",
    "from MCForecastTools import MCSimulation\n",
    "\n",
    "%matplotlib inline"
   ]
  },
  {
   "cell_type": "code",
   "execution_count": 5,
   "id": "3e1d63aa",
   "metadata": {},
   "outputs": [
    {
     "data": {
      "text/plain": [
       "True"
      ]
     },
     "execution_count": 5,
     "metadata": {},
     "output_type": "execute_result"
    }
   ],
   "source": [
    "# Load the enviroment from the .env file\n",
    "load_dotenv()"
   ]
  },
  {
   "cell_type": "code",
   "execution_count": 7,
   "id": "8e6e1036",
   "metadata": {},
   "outputs": [],
   "source": [
    "#Displaying the function of MCSimulation\n",
    "?MCSimulation"
   ]
  },
  {
   "cell_type": "markdown",
   "id": "91ba8fbd",
   "metadata": {},
   "source": [
    "## Emergency Financial Planner\n",
    "\n",
    "### Evaluating the Cryptocurrency Wallet"
   ]
  },
  {
   "cell_type": "code",
   "execution_count": 8,
   "id": "6bf55ed6",
   "metadata": {},
   "outputs": [],
   "source": [
    "# The current number of coins for each cryptocurrency asset held in the portfolio\n",
    "btc_coins = 1.2\n",
    "eth_coins = 5.3"
   ]
  },
  {
   "cell_type": "code",
   "execution_count": 9,
   "id": "11144b88",
   "metadata": {},
   "outputs": [],
   "source": [
    "# The monthly amount for the member's household income\n",
    "monthly_income = 12000"
   ]
  },
  {
   "cell_type": "code",
   "execution_count": 10,
   "id": "a3c0a851",
   "metadata": {},
   "outputs": [],
   "source": [
    "# The free Crypto API Call, we are going to use\n",
    "btc_url = \"https://api.alternative.me/v2/ticker/Bitcoin/?convert=USD\"\n",
    "eth_url = \"https://api.alternative.me/v2/ticker/Ethereum/?convert=USD\""
   ]
  },
  {
   "cell_type": "code",
   "execution_count": 22,
   "id": "ccbdbfee",
   "metadata": {},
   "outputs": [
    {
     "name": "stdout",
     "output_type": "stream",
     "text": [
      "{\n",
      "    \"data\": {\n",
      "        \"1\": {\n",
      "            \"circulating_supply\": 18949193,\n",
      "            \"id\": 1,\n",
      "            \"last_updated\": 1644043117,\n",
      "            \"max_supply\": 21000000,\n",
      "            \"name\": \"Bitcoin\",\n",
      "            \"quotes\": {\n",
      "                \"USD\": {\n",
      "                    \"market_cap\": 789985312575,\n",
      "                    \"percent_change_1h\": 0.306282837773515,\n",
      "                    \"percent_change_24h\": 9.57835795263568,\n",
      "                    \"percent_change_7d\": 10.1242565329178,\n",
      "                    \"percentage_change_1h\": 0.306282837773515,\n",
      "                    \"percentage_change_24h\": 9.57835795263568,\n",
      "                    \"percentage_change_7d\": 10.1242565329178,\n",
      "                    \"price\": 41685.0,\n",
      "                    \"volume_24h\": 25777936587\n",
      "                }\n",
      "            },\n",
      "            \"rank\": 1,\n",
      "            \"symbol\": \"BTC\",\n",
      "            \"total_supply\": 18949193,\n",
      "            \"website_slug\": \"bitcoin\"\n",
      "        }\n",
      "    },\n",
      "    \"metadata\": {\n",
      "        \"error\": null,\n",
      "        \"num_cryptocurrencies\": 3105,\n",
      "        \"timestamp\": 1644043117\n",
      "    }\n",
      "}\n"
     ]
    }
   ],
   "source": [
    "# Using the requests library, make an API call to access the current price of BTC\n",
    "btc_return = requests.get(btc_url).json()\n",
    "\n",
    "#Use the json.dumps function to review response. Indent changes indention and sort_keys sets them in their relative groups\n",
    "print(json.dumps(btc_return, indent=4, sort_keys=True))"
   ]
  },
  {
   "cell_type": "code",
   "execution_count": null,
   "id": "f3564201",
   "metadata": {},
   "outputs": [],
   "source": [
    "# Using the requests library, make an API call to access the current price of ETH\n"
   ]
  }
 ],
 "metadata": {
  "kernelspec": {
   "display_name": "Python 3 (ipykernel)",
   "language": "python",
   "name": "python3"
  },
  "language_info": {
   "codemirror_mode": {
    "name": "ipython",
    "version": 3
   },
   "file_extension": ".py",
   "mimetype": "text/x-python",
   "name": "python",
   "nbconvert_exporter": "python",
   "pygments_lexer": "ipython3",
   "version": "3.7.11"
  }
 },
 "nbformat": 4,
 "nbformat_minor": 5
}
