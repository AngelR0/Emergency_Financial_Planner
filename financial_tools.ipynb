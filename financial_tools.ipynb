{
 "cells": [
  {
   "cell_type": "markdown",
   "id": "898c9a74",
   "metadata": {},
   "source": [
    "# Financial Planning with API's and Simulations"
   ]
  },
  {
   "cell_type": "code",
   "execution_count": 4,
   "id": "588ff515",
   "metadata": {},
   "outputs": [],
   "source": [
    "# Import the required libraries and dependencies\n",
    "import os\n",
    "import requests\n",
    "import json\n",
    "import pandas as pd\n",
    "from dotenv import load_dotenv\n",
    "import alpaca_trade_api as tradeapi\n",
    "import numpy as np\n",
    "from MCForecastTools import MCSimulation\n",
    "\n",
    "%matplotlib inline"
   ]
  },
  {
   "cell_type": "code",
   "execution_count": 5,
   "id": "80a2d47c",
   "metadata": {},
   "outputs": [
    {
     "data": {
      "text/plain": [
       "True"
      ]
     },
     "execution_count": 5,
     "metadata": {},
     "output_type": "execute_result"
    }
   ],
   "source": [
    "# Load the enviroment from the .env file\n",
    "load_dotenv()"
   ]
  },
  {
   "cell_type": "code",
   "execution_count": 7,
   "id": "0a558dff",
   "metadata": {},
   "outputs": [],
   "source": [
    "#Displaying the function of MCSimulation\n",
    "?MCSimulation"
   ]
  },
  {
   "cell_type": "markdown",
   "id": "7c9b5e86",
   "metadata": {},
   "source": [
    "## Emergency Financial Planner\n",
    "\n",
    "### Evaluating the Cryptocurrency Wallet"
   ]
  },
  {
   "cell_type": "code",
   "execution_count": 8,
   "id": "6420226d",
   "metadata": {},
   "outputs": [],
   "source": [
    "# The current number of coins for each cryptocurrency asset held in the portfolio\n",
    "btc_coins = 1.2\n",
    "eth_coins = 5.3"
   ]
  },
  {
   "cell_type": "code",
   "execution_count": 9,
   "id": "976b38f3",
   "metadata": {},
   "outputs": [],
   "source": [
    "# The monthly amount for the member's household income\n",
    "monthly_income = 12000"
   ]
  },
  {
   "cell_type": "code",
   "execution_count": 10,
   "id": "4d931814",
   "metadata": {},
   "outputs": [],
   "source": [
    "# The free Crypto API Call, we are going to use\n",
    "btc_url = \"https://api.alternative.me/v2/ticker/Bitcoin/?convert=USD\"\n",
    "eth_url = \"https://api.alternative.me/v2/ticker/Ethereum/?convert=USD\""
   ]
  },
  {
   "cell_type": "code",
   "execution_count": 41,
   "id": "bf31e895",
   "metadata": {},
   "outputs": [
    {
     "name": "stdout",
     "output_type": "stream",
     "text": [
      "{\n",
      "    \"data\": {\n",
      "        \"1\": {\n",
      "            \"circulating_supply\": 18949193,\n",
      "            \"id\": 1,\n",
      "            \"last_updated\": 1644044580,\n",
      "            \"max_supply\": 21000000,\n",
      "            \"name\": \"Bitcoin\",\n",
      "            \"quotes\": {\n",
      "                \"USD\": {\n",
      "                    \"market_cap\": 788356799157,\n",
      "                    \"percent_change_1h\": -0.130334534132536,\n",
      "                    \"percent_change_24h\": 8.95005578471011,\n",
      "                    \"percent_change_7d\": 9.84173412498584,\n",
      "                    \"percentage_change_1h\": -0.130334534132536,\n",
      "                    \"percentage_change_24h\": 8.95005578471011,\n",
      "                    \"percentage_change_7d\": 9.84173412498584,\n",
      "                    \"price\": 41578.0,\n",
      "                    \"volume_24h\": 25722070641\n",
      "                }\n",
      "            },\n",
      "            \"rank\": 1,\n",
      "            \"symbol\": \"BTC\",\n",
      "            \"total_supply\": 18949193,\n",
      "            \"website_slug\": \"bitcoin\"\n",
      "        }\n",
      "    },\n",
      "    \"metadata\": {\n",
      "        \"error\": null,\n",
      "        \"num_cryptocurrencies\": 3105,\n",
      "        \"timestamp\": 1644044580\n",
      "    }\n",
      "}\n"
     ]
    }
   ],
   "source": [
    "# Using the requests library, make an API call to access the current price of BTC\n",
    "btc_response = requests.get(btc_url).json()\n",
    "\n",
    "#Use the json.dumps function to review the response. Indent changes indention and sort_keys sets them in their relative groups\n",
    "print(json.dumps(btc_response,\n",
    "                 indent=4,\n",
    "                 sort_keys=True)\n",
    "     )"
   ]
  },
  {
   "cell_type": "code",
   "execution_count": 23,
   "id": "0616bb23",
   "metadata": {},
   "outputs": [
    {
     "name": "stdout",
     "output_type": "stream",
     "text": [
      "{\n",
      "    \"data\": {\n",
      "        \"1027\": {\n",
      "            \"circulating_supply\": 119451302,\n",
      "            \"id\": 1027,\n",
      "            \"last_updated\": 1644043680,\n",
      "            \"max_supply\": 0,\n",
      "            \"name\": \"Ethereum\",\n",
      "            \"quotes\": {\n",
      "                \"USD\": {\n",
      "                    \"market_cap\": 361753331392,\n",
      "                    \"percent_change_1h\": -0.376169307813275,\n",
      "                    \"percent_change_24h\": 7.85498665496424,\n",
      "                    \"percent_change_7d\": 18.4099465850422,\n",
      "                    \"percentage_change_1h\": -0.376169307813275,\n",
      "                    \"percentage_change_24h\": 7.85498665496424,\n",
      "                    \"percentage_change_7d\": 18.4099465850422,\n",
      "                    \"price\": 3020.77,\n",
      "                    \"volume_24h\": 18796203980\n",
      "                }\n",
      "            },\n",
      "            \"rank\": 2,\n",
      "            \"symbol\": \"ETH\",\n",
      "            \"total_supply\": 119451302,\n",
      "            \"website_slug\": \"ethereum\"\n",
      "        }\n",
      "    },\n",
      "    \"metadata\": {\n",
      "        \"error\": null,\n",
      "        \"num_cryptocurrencies\": 3105,\n",
      "        \"timestamp\": 1644043680\n",
      "    }\n",
      "}\n"
     ]
    }
   ],
   "source": [
    "# Using the requests library, make an API call to access the current price of ETH\n",
    "eth_response = requests.get(eth_url).json()\n",
    "\n",
    "#Use the json.dumps function to review the response\n",
    "print(json.dumps(eth_response,\n",
    "                 indent=4,\n",
    "                 sort_keys=True)\n",
    "     )"
   ]
  },
  {
   "cell_type": "code",
   "execution_count": 42,
   "id": "594ca009",
   "metadata": {},
   "outputs": [
    {
     "name": "stdout",
     "output_type": "stream",
     "text": [
      "The current price of Bitcoin: $41578.0.\n"
     ]
    }
   ],
   "source": [
    "# Navigating the BTC response object to acces the current price of BTC\n",
    "btc_price = btc_response['data']['1']['quotes']['USD']['price']\n",
    "\n",
    "# Print the brice of BTC\n",
    "print(f\"The current price of Bitcoin: ${btc_price}.\")"
   ]
  },
  {
   "cell_type": "code",
   "execution_count": 38,
   "id": "db4cfc79",
   "metadata": {},
   "outputs": [
    {
     "name": "stdout",
     "output_type": "stream",
     "text": [
      "The current price of Ethereum: $3020.77.\n"
     ]
    }
   ],
   "source": [
    "# Navigating the BTC response object to acces the current price of BTC\n",
    "eth_price = eth_response['data']['1027']['quotes']['USD']['price']\n",
    "\n",
    "# Print the current price of ETH\n",
    "print(f\"The current price of Ethereum: ${eth_price}.\")"
   ]
  },
  {
   "cell_type": "code",
   "execution_count": 43,
   "id": "fe50194a",
   "metadata": {},
   "outputs": [
    {
     "name": "stdout",
     "output_type": "stream",
     "text": [
      "The value of Bitcoin in the portfolio: $49893.6.\n"
     ]
    }
   ],
   "source": [
    "# The value of BTC the portfolio holds:\n",
    "btc_value = btc_coins * btc_price\n",
    "\n",
    "print(f\"The value of Bitcoin in the portfolio: ${btc_value}.\")"
   ]
  },
  {
   "cell_type": "code",
   "execution_count": 44,
   "id": "6c704326",
   "metadata": {},
   "outputs": [
    {
     "name": "stdout",
     "output_type": "stream",
     "text": [
      "The value of Ethereum in the portfolio: $16010.081.\n"
     ]
    }
   ],
   "source": [
    "# The value of ETH the portfolio holds\n",
    "eth_value = eth_coins * eth_price\n",
    "\n",
    "# Print the value of ETH\n",
    "print(f\"The value of Ethereum in the portfolio: ${eth_value}.\")"
   ]
  },
  {
   "cell_type": "code",
   "execution_count": 45,
   "id": "64d04501",
   "metadata": {},
   "outputs": [
    {
     "name": "stdout",
     "output_type": "stream",
     "text": [
      "The total value of the cryptocurrency wallet: $65903.681.\n"
     ]
    }
   ],
   "source": [
    "# The total value of the cryptocurrency wallet (Add the value of the BTC holding and ETH holding)\n",
    "total_crypto_wallet = eth_value + btc_value\n",
    "# Print the current cryptocurrency wallet balance\n",
    "print(f\"The total value of the cryptocurrency wallet: ${total_crypto_wallet}.\")"
   ]
  },
  {
   "cell_type": "markdown",
   "id": "58b6fa4b",
   "metadata": {},
   "source": [
    "### Evaluating the Stock and Bond Holdings"
   ]
  },
  {
   "cell_type": "code",
   "execution_count": null,
   "id": "0eeca121",
   "metadata": {},
   "outputs": [],
   "source": [
    "# The current amount of shares held in both the stock (SPY)"
   ]
  }
 ],
 "metadata": {
  "kernelspec": {
   "display_name": "Python 3 (ipykernel)",
   "language": "python",
   "name": "python3"
  },
  "language_info": {
   "codemirror_mode": {
    "name": "ipython",
    "version": 3
   },
   "file_extension": ".py",
   "mimetype": "text/x-python",
   "name": "python",
   "nbconvert_exporter": "python",
   "pygments_lexer": "ipython3",
   "version": "3.7.11"
  }
 },
 "nbformat": 4,
 "nbformat_minor": 5
}
